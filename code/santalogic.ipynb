{
 "cells": [
  {
   "cell_type": "code",
   "execution_count": 238,
   "metadata": {
    "collapsed": false
   },
   "outputs": [
    {
     "data": {
      "text/plain": [
       "{'Craig': 'ana',\n",
       " 'DrKen': 'ana',\n",
       " 'KenM': 'ana',\n",
       " 'Randy': 'ana',\n",
       " 'Victoria': 'ana',\n",
       " 'abi': 'mkt',\n",
       " 'alicia': 'pd',\n",
       " 'ant': 'tech',\n",
       " 'brian': 'mkt',\n",
       " 'c1': 'cre',\n",
       " 'c2': 'cre',\n",
       " 'c3': 'cre',\n",
       " 'casey': 'tech',\n",
       " 'gabby': 'cre',\n",
       " 'jackie': 'mkt',\n",
       " 'jen': 'mkt',\n",
       " 'louise': 'pur',\n",
       " 'matt': 'mkt',\n",
       " 'mc': 'tech',\n",
       " 'morgan': 'pd',\n",
       " 'nikki': 'cre',\n",
       " 'p1': 'pur',\n",
       " 'p2': 'pur',\n",
       " 'p3': 'pur',\n",
       " 'p4': 'pur',\n",
       " 'p5': 'pur',\n",
       " 'paul': 'tech',\n",
       " 'pdemily': 'pd',\n",
       " 'pdotherperson': 'pd',\n",
       " 'seth': 'pur',\n",
       " 't1': 'tech',\n",
       " 't2': 'tech',\n",
       " 't3': 'tech',\n",
       " 't4': 'tech',\n",
       " 't5': 'tech',\n",
       " 't6': 'tech',\n",
       " 't7': 'tech',\n",
       " 't8': 'tech',\n",
       " 't9': 'tech',\n",
       " 'tomm': 'mkt',\n",
       " 'yvette': 'mkt',\n",
       " 'zack': 'mkt'}"
      ]
     },
     "execution_count": 238,
     "metadata": {},
     "output_type": "execute_result"
    }
   ],
   "source": [
    "analytics = ['DrKen',\n",
    "             'KenM',\n",
    "             'Craig',\n",
    "             \"Randy\",\n",
    "             \"Victoria\"]\n",
    "\n",
    "marketing = [\"abi\",\n",
    "            'brian',\n",
    "            'tomm',\n",
    "            'zack',\n",
    "            'yvette',\n",
    "            'jackie', \n",
    "            'jen',\n",
    "            'matt']\n",
    "\n",
    "pd = ['morgan',\n",
    "     'pdemily',\n",
    "     'alicia',\n",
    "     'pdotherperson']\n",
    "\n",
    "merch = ['heather', 'jayne', 'jillian', 'candace', 'm1', 'm2', 'm3', 'm4', 'm5', 'm6']\n",
    "\n",
    "creative = ['nikki', 'gabby', 'c1', 'c2', 'c3']\n",
    "purch = ['seth', 'louise', 'p1', 'p2', 'p3', 'p4', 'p5']\n",
    "tech = ['mc', 'casey', 'paul', 'ant', 't1', 't2', 't3', 't4', 't5', 't6', 't7', 't8', 't9']\n",
    "\n",
    "team_dict_larger = {}\n",
    "def add_in_names(dict_roster, teamroster, teamname):\n",
    "    for i in teamroster:\n",
    "        team_dict_larger[i] = teamname\n",
    "    return(dict_roster)\n",
    "\n",
    "team_dict_larger = add_in_names(team_dict_larger, analytics, 'ana')\n",
    "team_dict_larger = add_in_names(team_dict_larger, marketing, 'mkt')\n",
    "team_dict_larger = add_in_names(team_dict_larger, pd, 'pd')\n",
    "team_dict_larger = add_in_names(team_dict_larger, tech, 'tech')\n",
    "team_dict_larger = add_in_names(team_dict_larger, purch, 'pur')\n",
    "team_dict_larger = add_in_names(team_dict_larger, creative, 'cre')\n",
    "        \n",
    "team_dict_larger\n"
   ]
  },
  {
   "cell_type": "code",
   "execution_count": 62,
   "metadata": {
    "collapsed": false
   },
   "outputs": [],
   "source": [
    "import random"
   ]
  },
  {
   "cell_type": "code",
   "execution_count": 73,
   "metadata": {
    "collapsed": false
   },
   "outputs": [],
   "source": [
    "random.seed(16)"
   ]
  },
  {
   "cell_type": "code",
   "execution_count": 78,
   "metadata": {
    "collapsed": false
   },
   "outputs": [
    {
     "name": "stdout",
     "output_type": "stream",
     "text": [
      "[('morgan', 'morgan'), ('pdemily', 'pdemily'), ('alicia', 'alicia'), ('pdotherperson', 'pdotherperson'), ('abi', 'abi'), ('brian', 'brian'), ('tomm', 'tomm'), ('zack', 'zack'), ('yvette', 'yvette'), ('jackie', 'jackie'), ('jen', 'jen'), ('matt', 'matt'), ('DrKen', 'DrKen'), ('KenM', 'KenM'), ('Craig', 'Craig'), ('Randy', 'Randy'), ('Victoria', 'Victoria')]\n"
     ]
    }
   ],
   "source": [
    "everyone = pd + marketing + analytics\n",
    "#print(everyone)\n",
    "print(list(zip(everyone, everyone)))"
   ]
  },
  {
   "cell_type": "code",
   "execution_count": 252,
   "metadata": {
    "collapsed": false
   },
   "outputs": [
    {
     "ename": "KeyError",
     "evalue": "'t7'",
     "output_type": "error",
     "traceback": [
      "\u001b[0;31m---------------------------------------------------------------------------\u001b[0m",
      "\u001b[0;31mKeyError\u001b[0m                                  Traceback (most recent call last)",
      "\u001b[0;32m<ipython-input-252-6656be5b6812>\u001b[0m in \u001b[0;36m<module>\u001b[0;34m()\u001b[0m\n\u001b[1;32m     11\u001b[0m \u001b[0;34m\u001b[0m\u001b[0m\n\u001b[1;32m     12\u001b[0m     \u001b[0;32mfor\u001b[0m \u001b[0mpair\u001b[0m \u001b[0;32min\u001b[0m \u001b[0mresult\u001b[0m\u001b[0;34m:\u001b[0m\u001b[0;34m\u001b[0m\u001b[0m\n\u001b[0;32m---> 13\u001b[0;31m         \u001b[0;32mif\u001b[0m \u001b[0;34m(\u001b[0m\u001b[0mpair\u001b[0m\u001b[0;34m[\u001b[0m\u001b[0;36m0\u001b[0m\u001b[0;34m]\u001b[0m \u001b[0;34m!=\u001b[0m \u001b[0mpair\u001b[0m\u001b[0;34m[\u001b[0m\u001b[0;36m1\u001b[0m\u001b[0;34m]\u001b[0m\u001b[0;34m)\u001b[0m \u001b[0;32mand\u001b[0m         \u001b[0;34m(\u001b[0m\u001b[0mteamdic\u001b[0m\u001b[0;34m[\u001b[0m\u001b[0mpair\u001b[0m\u001b[0;34m[\u001b[0m\u001b[0;36m0\u001b[0m\u001b[0;34m]\u001b[0m\u001b[0;34m]\u001b[0m \u001b[0;34m!=\u001b[0m \u001b[0mteamdic\u001b[0m\u001b[0;34m[\u001b[0m\u001b[0mpair\u001b[0m\u001b[0;34m[\u001b[0m\u001b[0;36m1\u001b[0m\u001b[0;34m]\u001b[0m\u001b[0;34m]\u001b[0m\u001b[0;34m)\u001b[0m\u001b[0;34m:\u001b[0m\u001b[0;34m\u001b[0m\u001b[0m\n\u001b[0m\u001b[1;32m     14\u001b[0m             \u001b[0msolved\u001b[0m \u001b[0;34m=\u001b[0m \u001b[0;34m'YES'\u001b[0m\u001b[0;34m\u001b[0m\u001b[0m\n\u001b[1;32m     15\u001b[0m             \u001b[0;32mcontinue\u001b[0m\u001b[0;34m\u001b[0m\u001b[0m\n",
      "\u001b[0;31mKeyError\u001b[0m: 't7'"
     ]
    }
   ],
   "source": [
    "firsttime = 0\n",
    "for i in range(200,20000):\n",
    "    random.seed(i)\n",
    "    give = list(team_dict_larger.keys()).copy()\n",
    "    get = list(team_dict_larger.keys()).copy()\n",
    "    \n",
    "    random.shuffle(give)\n",
    "    random.shuffle(get)\n",
    "\n",
    "    result = list(zip(give, get))\n",
    "    \n",
    "    for pair in result: \n",
    "        if (pair[0] != pair[1]) and \\\n",
    "        (teamdic[pair[0]] != team_dict_larger[pair[1]]): \n",
    "            solved = 'YES'\n",
    "            continue\n",
    "        elif (pair[0] == pair[1]) or \\\n",
    "        (teamdic[pair[0]] == teamdic[pair[1]]):\n",
    "            solved = 'NOPE'\n",
    "            break\n",
    "        else:\n",
    "            print(pair[0], pair[1])\n",
    "            print(teamdic[pair[0]], teamdic[pair[1]])\n",
    "            print('WFT?')\n",
    "    if solved == 'YES':\n",
    "        print('solved in:', i)\n",
    "        break\n",
    "        \n",
    "if solved == 'YES':\n",
    "    for match in result:\n",
    "        print(match)\n",
    "\n",
    "print(i)"
   ]
  },
  {
   "cell_type": "code",
   "execution_count": 155,
   "metadata": {
    "collapsed": false
   },
   "outputs": [
    {
     "name": "stdout",
     "output_type": "stream",
     "text": [
      "{'alicia': 'brian', 'pdemily': 'abi', 'Craig': 'zack', 'Victoria': 'yvette', 'zack': 'Randy', 'tomm': 'pdotherperson', 'yvette': 'morgan', 'abi': 'pdemily', 'DrKen': 'jackie', 'matt': 'alicia', 'morgan': 'jen', 'Randy': 'tomm', 'brian': 'DrKen', 'jen': 'KenM', 'pdotherperson': 'Victoria', 'KenM': 'matt', 'jackie': 'Craig'}\n"
     ]
    }
   ],
   "source": [
    "#resultsdic = dict(result)\n",
    "\n",
    "print(resultsdic)"
   ]
  },
  {
   "cell_type": "code",
   "execution_count": 290,
   "metadata": {
    "collapsed": false
   },
   "outputs": [
    {
     "name": "stdout",
     "output_type": "stream",
     "text": [
      "145\n",
      "{'giveget': 1902, 'ppl': 2602, 'teams': 19144}\n",
      "CPU times: user 4.6 s, sys: 50.1 ms, total: 4.65 s\n",
      "Wall time: 7.59 s\n"
     ]
    }
   ],
   "source": [
    "%%time\n",
    "solutionsset = []\n",
    "\n",
    "#for i in solutionsset[:30]:    \n",
    "\n",
    "reasons = {'ppl': 0 , 'teams':0, 'giveget':0}\n",
    "solved = 'NO'\n",
    "firsttime = 0\n",
    "for i in range(1,2000000):\n",
    "    #print(i)\n",
    "    random.seed(i)\n",
    "    give = list(team_dict_larger.keys()).copy()\n",
    "    get = list(team_dict_larger.keys()).copy()\n",
    "    \n",
    "    random.shuffle(give)\n",
    "    random.shuffle(get)\n",
    "\n",
    "    result = list(zip(give, get))\n",
    "    pairs_to_make = len(result)\n",
    "    gifterdict = dict(result)\n",
    "    \n",
    "    closes = 0\n",
    "    for n , pair in enumerate(result): \n",
    "        diff_people = pair[0] == pair[1]\n",
    "        diff_teams = team_dict_larger[pair[0]] == team_dict_larger[pair[1]]\n",
    "        diff_give_get = gifterdict[pair[1]] == pair[0]\n",
    "\n",
    "        #print(pair, diff_give_get, gifterdict[pair[1]]) #, gifterdict[pair[0]]])\n",
    "        \n",
    "        if diff_people == True: \n",
    "            reasons['ppl'] += 1\n",
    "            break\n",
    "        if diff_teams== True: \n",
    "            reasons['teams'] += 1\n",
    "            break\n",
    "        if diff_give_get == True: \n",
    "            reasons['giveget'] += 1\n",
    "            break\n",
    "        \n",
    "        result_checked = result\n",
    "        #if n > closes: \n",
    "        #    closes = n\n",
    "        if n == (pairs_to_make - 1):\n",
    "            #smallsolutionsset.append(i)\n",
    "            #print('passed')\n",
    "            break\n",
    "    if n==(pairs_to_make - 1):\n",
    "        break\n",
    "        \n",
    "    \n",
    "            \n",
    "    #if solved == 'YES':\n",
    "        #print('solved in:', i)\n",
    "        #break\n",
    "#    else: print('solved {} of {}'.format(closes, pairs_to_make))\n",
    "        \n",
    "\n",
    "print(len(smallsolutionsset))\n",
    "print(reasons)\n",
    "\n",
    "\"\"\"\n",
    "for giftpair in result_checked:\n",
    "    print(giftpair)\n",
    "    \n",
    "print(diff_give_get\n",
    "     )\n",
    "print(n)\n",
    "\"\"\""
   ]
  },
  {
   "cell_type": "code",
   "execution_count": 287,
   "metadata": {
    "collapsed": false
   },
   "outputs": [
    {
     "name": "stdout",
     "output_type": "stream",
     "text": [
      "0 0\n",
      "1 1\n",
      "2 2\n",
      "3 3\n",
      "4 4\n",
      "5 5\n",
      "6 6\n",
      "7 7\n",
      "8 8\n",
      "9 9\n",
      "10 10\n",
      "11 11\n",
      "12 12\n",
      "13 13\n",
      "14 14\n",
      "15 15\n",
      "16 16\n",
      "17 17\n",
      "18 18\n",
      "19 19\n",
      "20 20\n",
      "21 21\n",
      "22 22\n",
      "23 23\n",
      "24 24\n",
      "25 25\n",
      "26 26\n",
      "27 27\n",
      "28 28\n",
      "29 29\n",
      "CPU times: user 615 µs, sys: 27 µs, total: 642 µs\n",
      "Wall time: 653 µs\n"
     ]
    }
   ],
   "source": [
    "%%time \n",
    "for i,j in enumerate(range(30)):\n",
    "    print(i,j)\n"
   ]
  },
  {
   "cell_type": "code",
   "execution_count": 278,
   "metadata": {
    "collapsed": false
   },
   "outputs": [
    {
     "name": "stdout",
     "output_type": "stream",
     "text": [
      "NOPE\n"
     ]
    }
   ],
   "source": [
    "        pair = ('jackie','jackie')\n",
    "        if (pair[0] != pair[1]) and \\\n",
    "        (teamdic[pair[0]] != teamdic[pair[1]]): \n",
    "            solved = 'YES'\n",
    "#            break\n",
    "        elif (pair[0] == pair[1]) or \\\n",
    "        (teamdic[pair[0]] == teamdic[pair[1]]):\n",
    "            solved = 'NOPE'\n",
    " #           continue\n",
    "        else:\n",
    "            print(pair[0], pair[1])\n",
    "            print(teamdic[pair[0]], teamdic[pair[1]])\n",
    "            print('WFT?')\n",
    "            \n",
    "print(solved)"
   ]
  },
  {
   "cell_type": "code",
   "execution_count": 84,
   "metadata": {
    "collapsed": false
   },
   "outputs": [],
   "source": [
    "teamdic = {'DrKen': 'analytics',\n",
    "             'KenM': 'analytics',\n",
    "             'Craig': 'analytics',\n",
    "             \"Randy\": 'analytics',\n",
    "             \"Victoria\": 'analytics',\n",
    "           \"abi\": 'marketing',\n",
    "            'brian': 'marketing',\n",
    "            'tomm': 'marketing',\n",
    "            'zack': 'marketing',\n",
    "            'yvette': 'marketing',\n",
    "            'jackie': 'marketing', \n",
    "            'jen': 'marketing',\n",
    "            'matt': 'marketing',\n",
    "           'morgan': 'pd',\n",
    "           'pdemily': 'pd',\n",
    "           'alicia': 'pd',\n",
    "     'pdotherperson': 'pd',\n",
    "          'heather':'merch',\n",
    "          'jayne':'merch',\n",
    "          ''}"
   ]
  },
  {
   "cell_type": "code",
   "execution_count": 271,
   "metadata": {
    "collapsed": false
   },
   "outputs": [
    {
     "name": "stdout",
     "output_type": "stream",
     "text": [
      "CPU times: user 3 µs, sys: 0 ns, total: 3 µs\n",
      "Wall time: 14.1 µs\n"
     ]
    },
    {
     "data": {
      "text/plain": [
       "('marketing', 'marketing')"
      ]
     },
     "execution_count": 271,
     "metadata": {},
     "output_type": "execute_result"
    }
   ],
   "source": [
    "%time\n",
    "teamdic['yvette'], teamdic['jen']"
   ]
  },
  {
   "cell_type": "code",
   "execution_count": 90,
   "metadata": {
    "collapsed": false
   },
   "outputs": [
    {
     "name": "stdout",
     "output_type": "stream",
     "text": [
      "['yvette', 'pdemily', 'Randy', 'Victoria', 'zack', 'tomm', 'alicia', 'abi', 'DrKen', 'matt', 'morgan', 'Craig', 'brian', 'jen', 'pdotherperson', 'KenM', 'jackie']\n"
     ]
    }
   ],
   "source": [
    "give = list(teamdic.keys()).copy()\n",
    "print(give)"
   ]
  },
  {
   "cell_type": "code",
   "execution_count": 272,
   "metadata": {
    "collapsed": false
   },
   "outputs": [
    {
     "name": "stdout",
     "output_type": "stream",
     "text": [
      "CPU times: user 3 µs, sys: 0 ns, total: 3 µs\n",
      "Wall time: 5.96 µs\n",
      "['morgan', 'pdemily', 'pdotherperson', 'alicia']\n"
     ]
    }
   ],
   "source": [
    "%time \n",
    "pd_toshake = pd.copy()\n",
    "random.shuffle(pd_toshake)\n",
    "print(pd_toshake)"
   ]
  },
  {
   "cell_type": "code",
   "execution_count": 60,
   "metadata": {
    "collapsed": false
   },
   "outputs": [
    {
     "name": "stdout",
     "output_type": "stream",
     "text": [
      "['morgan', 'alicia', 'pdotherperson', 'pdemily']\n"
     ]
    }
   ],
   "source": [
    "print(pd)"
   ]
  },
  {
   "cell_type": "code",
   "execution_count": 273,
   "metadata": {
    "collapsed": false
   },
   "outputs": [
    {
     "name": "stdout",
     "output_type": "stream",
     "text": [
      "CPU times: user 4 µs, sys: 0 ns, total: 4 µs\n",
      "Wall time: 10 µs\n",
      "[('Victoria', 'jackie'), ('KenM', 'pdemily'), ('abi', 'zack'), ('yvette', 'KenM'), ('pdotherperson', 'matt'), ('alicia', 'jen'), ('tomm', 'tomm'), ('DrKen', 'abi'), ('pdemily', 'Victoria'), ('jen', 'morgan'), ('zack', 'Randy'), ('jackie', 'alicia'), ('brian', 'pdotherperson'), ('morgan', 'Craig'), ('Randy', 'DrKen'), ('Craig', 'yvette'), ('matt', 'brian')]\n",
      "[('KenM', 'morgan'), ('Victoria', 'brian'), ('brian', 'tomm'), ('DrKen', 'Randy'), ('jen', 'yvette'), ('pdotherperson', 'alicia'), ('yvette', 'pdotherperson'), ('tomm', 'Craig'), ('abi', 'jen'), ('morgan', 'KenM'), ('matt', 'DrKen'), ('jackie', 'zack'), ('zack', 'matt'), ('pdemily', 'abi'), ('alicia', 'jackie'), ('Randy', 'Victoria'), ('Craig', 'pdemily')]\n",
      "[('jen', 'morgan'), ('jackie', 'zack'), ('pdotherperson', 'KenM'), ('pdemily', 'jen'), ('matt', 'Craig'), ('zack', 'pdemily'), ('DrKen', 'Randy'), ('abi', 'Victoria'), ('Victoria', 'brian'), ('Randy', 'alicia'), ('morgan', 'jackie'), ('Craig', 'tomm'), ('brian', 'DrKen'), ('yvette', 'yvette'), ('KenM', 'matt'), ('alicia', 'pdotherperson'), ('tomm', 'abi')]\n",
      "[('tomm', 'alicia'), ('alicia', 'morgan'), ('jen', 'KenM'), ('matt', 'DrKen'), ('pdemily', 'brian'), ('abi', 'yvette'), ('Victoria', 'zack'), ('KenM', 'jen'), ('zack', 'jackie'), ('brian', 'Craig'), ('Randy', 'abi'), ('jackie', 'Randy'), ('yvette', 'Victoria'), ('Craig', 'pdemily'), ('DrKen', 'matt'), ('morgan', 'pdotherperson'), ('pdotherperson', 'tomm')]\n",
      "[('yvette', 'matt'), ('alicia', 'zack'), ('zack', 'pdemily'), ('Victoria', 'DrKen'), ('jen', 'Randy'), ('Randy', 'Victoria'), ('brian', 'jackie'), ('matt', 'morgan'), ('jackie', 'abi'), ('DrKen', 'pdotherperson'), ('morgan', 'tomm'), ('pdotherperson', 'Craig'), ('KenM', 'alicia'), ('Craig', 'jen'), ('abi', 'KenM'), ('pdemily', 'yvette'), ('tomm', 'brian')]\n"
     ]
    }
   ],
   "source": [
    "%time\n",
    "for i in solutionsset[-5:]:    \n",
    "    random.seed(i)\n",
    "    give = list(teamdic.keys()).copy()\n",
    "    get = list(teamdic.keys()).copy()\n",
    "    \n",
    "    random.shuffle(give)\n",
    "    random.shuffle(get)\n",
    "\n",
    "    result = list(zip(give, get))\n",
    "    print(result)\n"
   ]
  },
  {
   "cell_type": "code",
   "execution_count": 264,
   "metadata": {
    "collapsed": false
   },
   "outputs": [
    {
     "name": "stdout",
     "output_type": "stream",
     "text": [
      "64\n",
      "32963\n",
      "96337\n",
      "103324\n",
      "120845\n",
      "124429\n",
      "171622\n",
      "213160\n",
      "229243\n",
      "247139\n",
      "323241\n",
      "346382\n",
      "422819\n",
      "531688\n",
      "547564\n",
      "597890\n",
      "642147\n",
      "651301\n",
      "779708\n",
      "790278\n",
      "794600\n",
      "794683\n",
      "860151\n",
      "873813\n",
      "875703\n",
      "914291\n",
      "941648\n",
      "943747\n",
      "966488\n",
      "978815\n",
      "1052914\n",
      "1078678\n",
      "1085868\n",
      "1129704\n",
      "1137632\n",
      "1141123\n",
      "1166729\n",
      "1272917\n",
      "1300332\n",
      "1309879\n",
      "1331201\n",
      "1343076\n",
      "1344593\n",
      "1353752\n",
      "1412567\n",
      "1423082\n",
      "1428165\n",
      "1476788\n",
      "1492204\n",
      "1527133\n",
      "1547056\n",
      "1557255\n",
      "1559928\n",
      "1575775\n",
      "1613235\n",
      "1633583\n",
      "1695562\n",
      "1745992\n",
      "1822907\n",
      "1831165\n",
      "1853897\n",
      "1861450\n",
      "1904393\n",
      "1944360\n",
      "1949029\n"
     ]
    }
   ],
   "source": [
    "print(len(solutionsset))\n",
    "for solution in solutionsset:\n",
    "    print(solution)"
   ]
  },
  {
   "cell_type": "code",
   "execution_count": 263,
   "metadata": {
    "collapsed": false
   },
   "outputs": [
    {
     "name": "stdout",
     "output_type": "stream",
     "text": [
      "('DrKen', 'alicia')\n",
      "('Craig', 'casey')\n",
      "('t5', 'p5')\n",
      "('c2', 'louise')\n",
      "('casey', 'p1')\n",
      "('c1', 'abi')\n",
      "('seth', 'tomm')\n",
      "('jackie', 't4')\n",
      "('matt', 't8')\n",
      "('pdotherperson', 't1')\n",
      "('KenM', 't6')\n",
      "('t8', 'c1')\n",
      "('p2', 'zack')\n",
      "('p3', 'mc')\n",
      "('alicia', 'gabby')\n",
      "('pdemily', 'paul')\n",
      "('Victoria', 'p2')\n",
      "('t9', 'brian')\n",
      "('ant', 'DrKen')\n",
      "('t2', 'p3')\n",
      "('c3', 'matt')\n",
      "('brian', 't5')\n",
      "('t3', 'pdotherperson')\n",
      "('p5', 'jen')\n",
      "('tomm', 't7')\n",
      "('t1', 'seth')\n",
      "('yvette', 't2')\n",
      "('abi', 't9')\n",
      "('t6', 'Craig')\n",
      "('zack', 'c2')\n",
      "('t4', 'c3')\n",
      "('t7', 'KenM')\n",
      "('gabby', 't3')\n",
      "('morgan', 'Victoria')\n",
      "('louise', 'ant')\n",
      "('p1', 'jackie')\n",
      "('mc', 'morgan')\n",
      "('p4', 'yvette')\n",
      "('Randy', 'nikki')\n",
      "('nikki', 'pdemily')\n",
      "('jen', 'Randy')\n",
      "('paul', 'p4')\n"
     ]
    }
   ],
   "source": [
    "for solved_pair in result_checked:\n",
    "    print(solved_pair)"
   ]
  },
  {
   "cell_type": "code",
   "execution_count": 265,
   "metadata": {
    "collapsed": false
   },
   "outputs": [
    {
     "name": "stdout",
     "output_type": "stream",
     "text": [
      "{'giveget': 0, 'ppl': 0, 'teams': 0}\n"
     ]
    }
   ],
   "source": [
    "print(reasons)"
   ]
  },
  {
   "cell_type": "code",
   "execution_count": null,
   "metadata": {
    "collapsed": true
   },
   "outputs": [],
   "source": []
  }
 ],
 "metadata": {
  "anaconda-cloud": {},
  "kernelspec": {
   "display_name": "Python [conda root]",
   "language": "python",
   "name": "conda-root-py"
  },
  "language_info": {
   "codemirror_mode": {
    "name": "ipython",
    "version": 3
   },
   "file_extension": ".py",
   "mimetype": "text/x-python",
   "name": "python",
   "nbconvert_exporter": "python",
   "pygments_lexer": "ipython3",
   "version": "3.5.2"
  }
 },
 "nbformat": 4,
 "nbformat_minor": 1
}
